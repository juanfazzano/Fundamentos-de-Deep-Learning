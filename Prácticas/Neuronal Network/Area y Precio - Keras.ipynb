{
 "cells": [
  {
   "cell_type": "markdown",
   "id": "ac257940-52c5-44a8-8193-e188853b9c97",
   "metadata": {},
   "source": [
    "# Regresión lineal: implementación en Keras"
   ]
  },
  {
   "cell_type": "code",
   "execution_count": 2,
   "id": "65c189ed-1f3d-49d8-858d-e1428ba233a6",
   "metadata": {},
   "outputs": [
    {
     "name": "stderr",
     "output_type": "stream",
     "text": [
      "/var/folders/8h/gmz73zy52mbcbh56_3bg1qr40000gn/T/ipykernel_16313/1048277630.py:1: DeprecationWarning: \n",
      "Pyarrow will become a required dependency of pandas in the next major release of pandas (pandas 3.0),\n",
      "(to allow more performant data types, such as the Arrow string type, and better interoperability with other libraries)\n",
      "but was not found to be installed on your system.\n",
      "If this would cause problems for you,\n",
      "please provide us feedback at https://github.com/pandas-dev/pandas/issues/54466\n",
      "        \n",
      "  import pandas as pd\n"
     ]
    }
   ],
   "source": [
    "import pandas as pd\n",
    "import matplotlib.pyplot as plt\n",
    "import numpy as np\n",
    "from tensorflow.keras import Sequential\n",
    "from tensorflow.keras.layers import Dense\n",
    "from tensorflow.keras.optimizers import SGD # GD Estocástico\n",
    "from tensorflow.keras.optimizers.legacy import SGD as SGD_mac# GD Estocástico para mac\n",
    "\n",
    "import tensorflow as tf\n",
    "np.random.seed(25)\n",
    "tf.random.set_seed(25)"
   ]
  },
  {
   "cell_type": "markdown",
   "id": "2f45ab78-5799-48a7-baee-ce28f7aceae4",
   "metadata": {},
   "source": [
    "## Lectura y Visualización"
   ]
  },
  {
   "cell_type": "code",
   "execution_count": 3,
   "id": "8539550d-3a98-43fb-86c6-9217e44e8017",
   "metadata": {
    "scrolled": true
   },
   "outputs": [
    {
     "data": {
      "text/html": [
       "<div>\n",
       "<style scoped>\n",
       "    .dataframe tbody tr th:only-of-type {\n",
       "        vertical-align: middle;\n",
       "    }\n",
       "\n",
       "    .dataframe tbody tr th {\n",
       "        vertical-align: top;\n",
       "    }\n",
       "\n",
       "    .dataframe thead th {\n",
       "        text-align: right;\n",
       "    }\n",
       "</style>\n",
       "<table border=\"1\" class=\"dataframe\">\n",
       "  <thead>\n",
       "    <tr style=\"text-align: right;\">\n",
       "      <th></th>\n",
       "      <th>Area</th>\n",
       "      <th>Precio</th>\n",
       "    </tr>\n",
       "  </thead>\n",
       "  <tbody>\n",
       "    <tr>\n",
       "      <th>0</th>\n",
       "      <td>152.272727</td>\n",
       "      <td>65928.86015</td>\n",
       "    </tr>\n",
       "    <tr>\n",
       "      <th>1</th>\n",
       "      <td>102.272727</td>\n",
       "      <td>44477.41849</td>\n",
       "    </tr>\n",
       "    <tr>\n",
       "      <th>2</th>\n",
       "      <td>222.727273</td>\n",
       "      <td>95848.62198</td>\n",
       "    </tr>\n",
       "    <tr>\n",
       "      <th>3</th>\n",
       "      <td>79.545455</td>\n",
       "      <td>44964.89827</td>\n",
       "    </tr>\n",
       "    <tr>\n",
       "      <th>4</th>\n",
       "      <td>86.363636</td>\n",
       "      <td>34367.39122</td>\n",
       "    </tr>\n",
       "  </tbody>\n",
       "</table>\n",
       "</div>"
      ],
      "text/plain": [
       "         Area       Precio\n",
       "0  152.272727  65928.86015\n",
       "1  102.272727  44477.41849\n",
       "2  222.727273  95848.62198\n",
       "3   79.545455  44964.89827\n",
       "4   86.363636  34367.39122"
      ]
     },
     "execution_count": 3,
     "metadata": {},
     "output_type": "execute_result"
    }
   ],
   "source": [
    "\n",
    "path = '../../Data/Area y Precio.csv'\n",
    "data = pd.read_csv(path)\n",
    "data.head()"
   ]
  },
  {
   "cell_type": "code",
   "execution_count": 4,
   "id": "a390dcba-e3fc-45d8-aad0-6a84d8810a14",
   "metadata": {},
   "outputs": [
    {
     "data": {
      "text/plain": [
       "(100, 2)"
      ]
     },
     "execution_count": 4,
     "metadata": {},
     "output_type": "execute_result"
    }
   ],
   "source": [
    "data.shape"
   ]
  },
  {
   "cell_type": "code",
   "execution_count": 5,
   "id": "5c712c19-d259-441b-ab51-f7729742fda9",
   "metadata": {},
   "outputs": [],
   "source": [
    "x1 = data['Area'].values\n",
    "y = data['Precio'].values"
   ]
  },
  {
   "cell_type": "code",
   "execution_count": 6,
   "id": "021f3a1d-8a05-4c05-8fc7-b52839dce5af",
   "metadata": {},
   "outputs": [
    {
     "data": {
      "text/plain": [
       "Text(0, 0.5, 'y (precio')"
      ]
     },
     "execution_count": 6,
     "metadata": {},
     "output_type": "execute_result"
    },
    {
     "data": {
      "image/png": "[encoded data removed]",
      "text/plain": [
       "<Figure size 640x480 with 1 Axes>"
      ]
     },
     "metadata": {},
     "output_type": "display_data"
    }
   ],
   "source": [
    "plt.scatter(x1,y)\n",
    "plt.xlabel('$x_1$ (área en $m^2$)')\n",
    "plt.ylabel('y (precio')"
   ]
  },
  {
   "cell_type": "markdown",
   "id": "92cbee0b-acc2-4238-8adf-4023dbf01d5a",
   "metadata": {},
   "source": [
    "## Construcción del Modelo"
   ]
  },
  {
   "cell_type": "code",
   "execution_count": 7,
   "id": "5cf8e6d3-0a19-45f3-9d78-c28f1d1df48c",
   "metadata": {},
   "outputs": [],
   "source": [
    "# Contenedor vacío\n",
    "modelo = Sequential()"
   ]
  },
  {
   "cell_type": "code",
   "execution_count": 8,
   "id": "a91c8755-d9f6-4e32-bec1-c2e25358a997",
   "metadata": {},
   "outputs": [],
   "source": [
    "# Cargando el modelo ('add')\n",
    "modelo.add(Dense(1, activation='linear', input_shape=((1,))))"
   ]
  },
  {
   "cell_type": "code",
   "execution_count": 9,
   "id": "5bfdb84e-a8b2-42c7-bba5-5608debaa8b9",
   "metadata": {},
   "outputs": [
    {
     "name": "stdout",
     "output_type": "stream",
     "text": [
      "Model: \"sequential\"\n",
      "_________________________________________________________________\n",
      " Layer (type)                Output Shape              Param #   \n",
      "=================================================================\n",
      " dense (Dense)               (None, 1)                 2         \n",
      "                                                                 \n",
      "=================================================================\n",
      "Total params: 2 (8.00 Byte)\n",
      "Trainable params: 2 (8.00 Byte)\n",
      "Non-trainable params: 0 (0.00 Byte)\n",
      "_________________________________________________________________\n"
     ]
    }
   ],
   "source": [
    "# Información del modelo y = wx + b\n",
    "modelo.summary()"
   ]
  },
  {
   "cell_type": "markdown",
   "id": "f744d3b5-46db-4957-ba68-601b1c4e9b6f",
   "metadata": {},
   "source": [
    "## Optimizador (Gradiente Descendente Estocástico) y pérdida"
   ]
  },
  {
   "cell_type": "code",
   "execution_count": 10,
   "id": "b48b68cb-163d-4015-b096-d74a863f41bc",
   "metadata": {},
   "outputs": [
    {
     "name": "stderr",
     "output_type": "stream",
     "text": [
      "WARNING:absl:At this time, the v2.11+ optimizer `tf.keras.optimizers.SGD` runs slowly on M1/M2 Macs, please use the legacy Keras optimizer instead, located at `tf.keras.optimizers.legacy.SGD`.\n"
     ]
    }
   ],
   "source": [
    "lr = 0.00001 # learning rate\n",
    "optimizador = SGD(learning_rate=lr)\n",
    "modelo.compile(optimizer=optimizador, loss='mse')"
   ]
  },
  {
   "cell_type": "markdown",
   "id": "d97bbef0-b866-47d5-87d7-3f95bdaa9ae3",
   "metadata": {},
   "source": [
    "Al cambiar a tf.keras.optimizers.legacy.SGD, estás utilizando la versión heredada del optimizador que es compatible y puede funcionar de manera más eficiente en las Macs M1/M2."
   ]
  },
  {
   "cell_type": "code",
   "execution_count": 11,
   "id": "98c979f2-74cb-4067-b5b5-d060e5968c8f",
   "metadata": {},
   "outputs": [],
   "source": [
    "optimizador = SGD_mac(learning_rate=lr)\n",
    "modelo.compile(optimizer=optimizador, loss='mse')"
   ]
  },
  {
   "cell_type": "markdown",
   "id": "627bea0b-9b9c-4ff1-85c4-7a9792505e6f",
   "metadata": {},
   "source": [
    "## Entrenamiento y Predicción"
   ]
  },
  {
   "cell_type": "code",
   "execution_count": 12,
   "id": "917b6c78-e27f-4925-80d2-6c2183e38b8e",
   "metadata": {},
   "outputs": [
    {
     "name": "stdout",
     "output_type": "stream",
     "text": [
      "Epoch 1/100\n",
      "10/10 [==============================] - 0s 688us/step - loss: 791790464.0000\n",
      "Epoch 2/100\n",
      "10/10 [==============================] - 0s 526us/step - loss: 88015624.0000\n",
      "Epoch 3/100\n",
      "10/10 [==============================] - 0s 538us/step - loss: 90311936.0000\n",
      "Epoch 4/100\n",
      "10/10 [==============================] - 0s 532us/step - loss: 90005800.0000\n",
      "Epoch 5/100\n",
      "10/10 [==============================] - 0s 508us/step - loss: 87927192.0000\n",
      "Epoch 6/100\n",
      "10/10 [==============================] - 0s 500us/step - loss: 92732120.0000\n",
      "Epoch 7/100\n",
      "10/10 [==============================] - 0s 503us/step - loss: 88902224.0000\n",
      "Epoch 8/100\n",
      "10/10 [==============================] - 0s 511us/step - loss: 89000000.0000\n",
      "Epoch 9/100\n",
      "10/10 [==============================] - 0s 530us/step - loss: 88838648.0000\n",
      "Epoch 10/100\n",
      "10/10 [==============================] - 0s 483us/step - loss: 90567264.0000\n",
      "Epoch 11/100\n",
      "10/10 [==============================] - 0s 484us/step - loss: 88884104.0000\n",
      "Epoch 12/100\n",
      "10/10 [==============================] - 0s 490us/step - loss: 93994104.0000\n",
      "Epoch 13/100\n",
      "10/10 [==============================] - 0s 508us/step - loss: 94883024.0000\n",
      "Epoch 14/100\n",
      "10/10 [==============================] - 0s 487us/step - loss: 90176928.0000\n",
      "Epoch 15/100\n",
      "10/10 [==============================] - 0s 470us/step - loss: 88801432.0000\n",
      "Epoch 16/100\n",
      "10/10 [==============================] - 0s 474us/step - loss: 91040664.0000\n",
      "Epoch 17/100\n",
      "10/10 [==============================] - 0s 488us/step - loss: 88557760.0000\n",
      "Epoch 18/100\n",
      "10/10 [==============================] - 0s 492us/step - loss: 92108256.0000\n",
      "Epoch 19/100\n",
      "10/10 [==============================] - 0s 478us/step - loss: 92214920.0000\n",
      "Epoch 20/100\n",
      "10/10 [==============================] - 0s 474us/step - loss: 90080160.0000\n",
      "Epoch 21/100\n",
      "10/10 [==============================] - 0s 462us/step - loss: 90552936.0000\n",
      "Epoch 22/100\n",
      "10/10 [==============================] - 0s 473us/step - loss: 89059288.0000\n",
      "Epoch 23/100\n",
      "10/10 [==============================] - 0s 466us/step - loss: 88943360.0000\n",
      "Epoch 24/100\n",
      "10/10 [==============================] - 0s 512us/step - loss: 92195984.0000\n",
      "Epoch 25/100\n",
      "10/10 [==============================] - 0s 460us/step - loss: 87397488.0000\n",
      "Epoch 26/100\n",
      "10/10 [==============================] - 0s 451us/step - loss: 89490592.0000\n",
      "Epoch 27/100\n",
      "10/10 [==============================] - 0s 493us/step - loss: 87700488.0000\n",
      "Epoch 28/100\n",
      "10/10 [==============================] - 0s 487us/step - loss: 86306840.0000\n",
      "Epoch 29/100\n",
      "10/10 [==============================] - 0s 533us/step - loss: 91603280.0000\n",
      "Epoch 30/100\n",
      "10/10 [==============================] - 0s 451us/step - loss: 91673160.0000\n",
      "Epoch 31/100\n",
      "10/10 [==============================] - 0s 494us/step - loss: 86607432.0000\n",
      "Epoch 32/100\n",
      "10/10 [==============================] - 0s 453us/step - loss: 89379680.0000\n",
      "Epoch 33/100\n",
      "10/10 [==============================] - 0s 470us/step - loss: 89309504.0000\n",
      "Epoch 34/100\n",
      "10/10 [==============================] - 0s 454us/step - loss: 88185424.0000\n",
      "Epoch 35/100\n",
      "10/10 [==============================] - 0s 493us/step - loss: 91110976.0000\n",
      "Epoch 36/100\n",
      "10/10 [==============================] - 0s 494us/step - loss: 91285696.0000\n",
      "Epoch 37/100\n",
      "10/10 [==============================] - 0s 493us/step - loss: 87086728.0000\n",
      "Epoch 38/100\n",
      "10/10 [==============================] - 0s 463us/step - loss: 91448840.0000\n",
      "Epoch 39/100\n",
      "10/10 [==============================] - 0s 484us/step - loss: 87908344.0000\n",
      "Epoch 40/100\n",
      "10/10 [==============================] - 0s 474us/step - loss: 89968960.0000\n",
      "Epoch 41/100\n",
      "10/10 [==============================] - 0s 461us/step - loss: 89781968.0000\n",
      "Epoch 42/100\n",
      "10/10 [==============================] - 0s 505us/step - loss: 90826960.0000\n",
      "Epoch 43/100\n",
      "10/10 [==============================] - 0s 476us/step - loss: 86231456.0000\n",
      "Epoch 44/100\n",
      "10/10 [==============================] - 0s 462us/step - loss: 89463688.0000\n",
      "Epoch 45/100\n",
      "10/10 [==============================] - 0s 437us/step - loss: 90563248.0000\n",
      "Epoch 46/100\n",
      "10/10 [==============================] - 0s 488us/step - loss: 88609056.0000\n",
      "Epoch 47/100\n",
      "10/10 [==============================] - 0s 606us/step - loss: 87327768.0000\n",
      "Epoch 48/100\n",
      "10/10 [==============================] - 0s 523us/step - loss: 89916952.0000\n",
      "Epoch 49/100\n",
      "10/10 [==============================] - 0s 450us/step - loss: 90833560.0000\n",
      "Epoch 50/100\n",
      "10/10 [==============================] - 0s 2ms/step - loss: 93536520.0000\n",
      "Epoch 51/100\n",
      "10/10 [==============================] - 0s 495us/step - loss: 94526720.0000\n",
      "Epoch 52/100\n",
      "10/10 [==============================] - 0s 530us/step - loss: 87959776.0000\n",
      "Epoch 53/100\n",
      "10/10 [==============================] - 0s 504us/step - loss: 87341376.0000\n",
      "Epoch 54/100\n",
      "10/10 [==============================] - 0s 502us/step - loss: 90593272.0000\n",
      "Epoch 55/100\n",
      "10/10 [==============================] - 0s 495us/step - loss: 89373024.0000\n",
      "Epoch 56/100\n",
      "10/10 [==============================] - 0s 446us/step - loss: 92642312.0000\n",
      "Epoch 57/100\n",
      "10/10 [==============================] - 0s 505us/step - loss: 89697712.0000\n",
      "Epoch 58/100\n",
      "10/10 [==============================] - 0s 520us/step - loss: 89956376.0000\n",
      "Epoch 59/100\n",
      "10/10 [==============================] - 0s 539us/step - loss: 89256408.0000\n",
      "Epoch 60/100\n",
      "10/10 [==============================] - 0s 470us/step - loss: 91701968.0000\n",
      "Epoch 61/100\n",
      "10/10 [==============================] - 0s 463us/step - loss: 89881168.0000\n",
      "Epoch 62/100\n",
      "10/10 [==============================] - 0s 458us/step - loss: 90524920.0000\n",
      "Epoch 63/100\n",
      "10/10 [==============================] - 0s 541us/step - loss: 88644752.0000\n",
      "Epoch 64/100\n",
      "10/10 [==============================] - 0s 492us/step - loss: 89163712.0000\n",
      "Epoch 65/100\n",
      "10/10 [==============================] - 0s 530us/step - loss: 92155288.0000\n",
      "Epoch 66/100\n",
      "10/10 [==============================] - 0s 481us/step - loss: 87266016.0000\n",
      "Epoch 67/100\n",
      "10/10 [==============================] - 0s 522us/step - loss: 93705440.0000\n",
      "Epoch 68/100\n",
      "10/10 [==============================] - 0s 499us/step - loss: 86771016.0000\n",
      "Epoch 69/100\n",
      "10/10 [==============================] - 0s 503us/step - loss: 91719376.0000\n",
      "Epoch 70/100\n",
      "10/10 [==============================] - 0s 460us/step - loss: 88550400.0000\n",
      "Epoch 71/100\n",
      "10/10 [==============================] - 0s 486us/step - loss: 90626152.0000\n",
      "Epoch 72/100\n",
      "10/10 [==============================] - 0s 469us/step - loss: 89284936.0000\n",
      "Epoch 73/100\n",
      "10/10 [==============================] - 0s 523us/step - loss: 88718512.0000\n",
      "Epoch 74/100\n",
      "10/10 [==============================] - 0s 474us/step - loss: 91689624.0000\n",
      "Epoch 75/100\n",
      "10/10 [==============================] - 0s 508us/step - loss: 91990792.0000\n",
      "Epoch 76/100\n",
      "10/10 [==============================] - 0s 471us/step - loss: 89654752.0000\n",
      "Epoch 77/100\n",
      "10/10 [==============================] - 0s 469us/step - loss: 89538592.0000\n",
      "Epoch 78/100\n",
      "10/10 [==============================] - 0s 488us/step - loss: 92291464.0000\n",
      "Epoch 79/100\n",
      "10/10 [==============================] - 0s 483us/step - loss: 87146536.0000\n",
      "Epoch 80/100\n",
      "10/10 [==============================] - 0s 504us/step - loss: 94214888.0000\n",
      "Epoch 81/100\n",
      "10/10 [==============================] - 0s 502us/step - loss: 88364864.0000\n",
      "Epoch 82/100\n",
      "10/10 [==============================] - 0s 435us/step - loss: 94365072.0000\n",
      "Epoch 83/100\n",
      "10/10 [==============================] - 0s 494us/step - loss: 90577808.0000\n",
      "Epoch 84/100\n",
      "10/10 [==============================] - 0s 464us/step - loss: 91995504.0000\n",
      "Epoch 85/100\n",
      "10/10 [==============================] - 0s 511us/step - loss: 87363176.0000\n",
      "Epoch 86/100\n",
      "10/10 [==============================] - 0s 501us/step - loss: 89958408.0000\n",
      "Epoch 87/100\n",
      "10/10 [==============================] - 0s 495us/step - loss: 91126128.0000\n",
      "Epoch 88/100\n",
      "10/10 [==============================] - 0s 781us/step - loss: 90722240.0000\n",
      "Epoch 89/100\n",
      "10/10 [==============================] - 0s 517us/step - loss: 87897296.0000\n",
      "Epoch 90/100\n",
      "10/10 [==============================] - 0s 537us/step - loss: 90924680.0000\n",
      "Epoch 91/100\n",
      "10/10 [==============================] - 0s 466us/step - loss: 90680680.0000\n",
      "Epoch 92/100\n",
      "10/10 [==============================] - 0s 530us/step - loss: 89516368.0000\n",
      "Epoch 93/100\n",
      "10/10 [==============================] - 0s 475us/step - loss: 87870312.0000\n",
      "Epoch 94/100\n",
      "10/10 [==============================] - 0s 454us/step - loss: 88153776.0000\n",
      "Epoch 95/100\n",
      "10/10 [==============================] - 0s 531us/step - loss: 88427288.0000\n",
      "Epoch 96/100\n",
      "10/10 [==============================] - 0s 510us/step - loss: 88404368.0000\n",
      "Epoch 97/100\n",
      "10/10 [==============================] - 0s 447us/step - loss: 89199128.0000\n",
      "Epoch 98/100\n",
      "10/10 [==============================] - 0s 497us/step - loss: 88277040.0000\n",
      "Epoch 99/100\n",
      "10/10 [==============================] - 0s 530us/step - loss: 86917016.0000\n",
      "Epoch 100/100\n",
      "10/10 [==============================] - 0s 470us/step - loss: 85044048.0000\n"
     ]
    }
   ],
   "source": [
    "n_epochs = 100\n",
    "s_minibatches = 10 # Probar con diferentes batch_sizes\n",
    "historia = modelo.fit(x1,y,epochs=n_epochs,batch_size=s_minibatches,verbose=1)"
   ]
  },
  {
   "cell_type": "code",
   "execution_count": 13,
   "id": "c44e8794-5808-4a5c-84ba-c6684073d2dc",
   "metadata": {},
   "outputs": [
    {
     "data": {
      "text/plain": [
       "[<matplotlib.lines.Line2D at 0x175f74050>]"
      ]
     },
     "execution_count": 13,
     "metadata": {},
     "output_type": "execute_result"
    },
    {
     "data": {
      "image/png": "[encoded data removed]",
      "text/plain": [
       "<Figure size 640x480 with 1 Axes>"
      ]
     },
     "metadata": {},
     "output_type": "display_data"
    }
   ],
   "source": [
    "plt.plot(historia.history['loss'])"
   ]
  },
  {
   "cell_type": "code",
   "execution_count": 15,
   "id": "c4ecf817-d6cb-46d2-8ef6-dac1f3f792c9",
   "metadata": {},
   "outputs": [
    {
     "name": "stdout",
     "output_type": "stream",
     "text": [
      "4/4 [==============================] - 0s 908us/step\n"
     ]
    },
    {
     "data": {
      "text/plain": [
       "Text(0, 0.5, 'y (precio')"
      ]
     },
     "execution_count": 15,
     "metadata": {},
     "output_type": "execute_result"
    },
    {
     "data": {
      "image/png": "[encoded data removed]",
      "text/plain": [
       "<Figure size 640x480 with 1 Axes>"
      ]
     },
     "metadata": {},
     "output_type": "display_data"
    }
   ],
   "source": [
    "# Dibujar recta resultante\n",
    "x_pred = np.linspace(x1.min(),x1.max(),x1.shape[0])\n",
    "y_pred = modelo.predict(x_pred)\n",
    "\n",
    "plt.scatter(x1,y)\n",
    "plt.plot(x_pred,y_pred,'r--')\n",
    "plt.xlabel('$x_1$ (área en $m^2$)')\n",
    "plt.ylabel('y (precio')"
   ]
  }
 ],
 "metadata": {
  "kernelspec": {
   "display_name": "Python 3.11 (torch)",
   "language": "python",
   "name": "pytorch"
  },
  "language_info": {
   "codemirror_mode": {
    "name": "ipython",
    "version": 3
   },
   "file_extension": ".py",
   "mimetype": "text/x-python",
   "name": "python",
   "nbconvert_exporter": "python",
   "pygments_lexer": "ipython3",
   "version": "3.11.7"
  }
 },
 "nbformat": 4,
 "nbformat_minor": 5
}
