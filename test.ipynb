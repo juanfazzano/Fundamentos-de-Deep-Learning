{
 "cells": [
  {
   "cell_type": "markdown",
   "id": "d4a747e4-afea-45ab-a343-1b714b9ea36e",
   "metadata": {},
   "source": [
    "# Descenso del Gradiente\n",
    "\n",
    "La función es encontrar de forma iterativa el mínimo de una función\n",
    "\n",
    "Gradiente Descendiente"
   ]
  },
  {
   "cell_type": "code",
   "execution_count": null,
   "id": "c1d72161-b924-4fa8-b3d4-fd919df49890",
   "metadata": {},
   "outputs": [],
   "source": []
  },
  {
   "cell_type": "code",
   "execution_count": null,
   "id": "53f78f82-5a90-4c97-9b28-4f9aab1011da",
   "metadata": {},
   "outputs": [],
   "source": []
  },
  {
   "cell_type": "code",
   "execution_count": null,
   "id": "9541b73d-45a9-40f8-b43f-a239cb2416a2",
   "metadata": {},
   "outputs": [],
   "source": []
  }
 ],
 "metadata": {
  "kernelspec": {
   "display_name": "Python 3.11 (torch)",
   "language": "python",
   "name": "pytorch"
  },
  "language_info": {
   "codemirror_mode": {
    "name": "ipython",
    "version": 3
   },
   "file_extension": ".py",
   "mimetype": "text/x-python",
   "name": "python",
   "nbconvert_exporter": "python",
   "pygments_lexer": "ipython3",
   "version": "3.11.7"
  }
 },
 "nbformat": 4,
 "nbformat_minor": 5
}
