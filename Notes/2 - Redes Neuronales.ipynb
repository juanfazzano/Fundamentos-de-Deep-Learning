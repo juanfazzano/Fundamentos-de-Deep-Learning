{
 "cells": [
  {
   "cell_type": "markdown",
   "id": "d4a747e4-afea-45ab-a343-1b714b9ea36e",
   "metadata": {},
   "source": [
    "# Descenso del Gradiente\n",
    "\n",
    "La función es encontrar de forma iterativa el mínimo de una función\n",
    "\n",
    "Gradiente Descendiente"
   ]
  },
  {
   "cell_type": "markdown",
   "id": "5933b984-7821-478f-95ea-7f31ad2f5ee9",
   "metadata": {},
   "source": [
    "# Regresión Lineal"
   ]
  },
  {
   "cell_type": "markdown",
   "id": "fa73049c-7397-4336-8e2f-09dea38ea36c",
   "metadata": {},
   "source": [
    "# Error cuadrático medio\n",
    "\n",
    "El Error Cuadrático Medio (ECM) es una métrica comúnmente utilizada para evaluar el rendimiento de un modelo en problemas de regresión en el ámbito del aprendizaje automático. Se calcula como la media de las diferencias al cuadrado entre las predicciones del modelo y los valores reales. El ECM penaliza de manera significativa las grandes discrepancias entre las predicciones y los valores reales, proporcionando una medida cuantitativa de qué tan bien se ajusta el modelo a los datos de entrenamiento. Minimizar el ECM es un objetivo común durante el proceso de entrenamiento de un modelo de regresión.\n",
    "\n",
    "\n",
    "Como los resultados de la resta son positivos y negativos, se utiliza el cuadrado **2 para que se \"normalice\"\n",
    "\n",
    "\n",
    "### Minimización de la pérdida --> Gradiente Descendiente\n",
    "\n",
    "\n"
   ]
  },
  {
   "cell_type": "code",
   "execution_count": null,
   "id": "9541b73d-45a9-40f8-b43f-a239cb2416a2",
   "metadata": {},
   "outputs": [],
   "source": []
  }
 ],
 "metadata": {
  "kernelspec": {
   "display_name": "Python 3.11 (torch)",
   "language": "python",
   "name": "pytorch"
  },
  "language_info": {
   "codemirror_mode": {
    "name": "ipython",
    "version": 3
   },
   "file_extension": ".py",
   "mimetype": "text/x-python",
   "name": "python",
   "nbconvert_exporter": "python",
   "pygments_lexer": "ipython3",
   "version": "3.11.7"
  }
 },
 "nbformat": 4,
 "nbformat_minor": 5
}
