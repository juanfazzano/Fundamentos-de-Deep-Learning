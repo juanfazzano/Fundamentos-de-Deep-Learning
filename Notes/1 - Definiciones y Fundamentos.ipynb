{
 "cells": [
  {
   "cell_type": "markdown",
   "id": "7138a06d-5143-4952-94d3-e98b53e02eeb",
   "metadata": {},
   "source": [
    "# Arquitecturas principales\n",
    "\n",
    "1. NN: Redes Neuronales (arqui base)\n",
    "2. Redes Convolucionales --> especializadas en imagenes, ahora tambien audio\n",
    "3. Redes Recurrentes --> LSTM: redes de memoria de corto y largo plazo. Secuencias:texto y voz *NLP: Procesos del lenguaje natural*\n",
    "4. Transformers --> text, voz, imagenes, audio y video"
   ]
  },
  {
   "cell_type": "markdown",
   "id": "151fd39c-0666-494d-835c-5bf4154c9680",
   "metadata": {},
   "source": [
    "## Areas\n",
    "\n",
    "### Videojuegos\n",
    "Deep Reinforcement --> DL + Reinforcement Learning\n",
    "// aprendizaje por refuerzo\n",
    "\n",
    "### Medicina\n",
    "AlphaFold (Deepmind)"
   ]
  },
  {
   "cell_type": "markdown",
   "id": "8070a0f2-fff4-4f2f-ac03-bedd2fe5ba87",
   "metadata": {},
   "source": [
    "---"
   ]
  },
  {
   "cell_type": "markdown",
   "id": "309a2dae-5b2a-4df1-8993-06293105821d",
   "metadata": {
    "jp-MarkdownHeadingCollapsed": true
   },
   "source": [
    "# Tipo de Datos\n",
    "\n",
    "### Estructurados --> DataBases --> ML\n",
    "\n",
    "### No estructurados --> DL"
   ]
  },
  {
   "cell_type": "markdown",
   "id": "0d6cee91-a407-497b-8f5a-16bffd426470",
   "metadata": {},
   "source": [
    "# Tipo de Aprendizaje\n",
    "\n",
    "## Supervisado\n",
    "La entrada y salida (class) se conocen\n",
    "\n",
    "    - clasificacion: categoría\n",
    "    - regresión: predecir valor continuo\n",
    "\n",
    "## No Supervisado\n",
    "    - Clustering"
   ]
  },
  {
   "cell_type": "markdown",
   "id": "42ff819b-3a20-45de-8a12-4904598b84b8",
   "metadata": {},
   "source": [
    "---"
   ]
  },
  {
   "cell_type": "code",
   "execution_count": null,
   "id": "7954fd81-0f7c-4676-a76f-03c781da44d7",
   "metadata": {},
   "outputs": [],
   "source": []
  },
  {
   "cell_type": "code",
   "execution_count": null,
   "id": "b4247119-2891-400c-b6d4-f2cdfd2bc4eb",
   "metadata": {},
   "outputs": [],
   "source": []
  },
  {
   "cell_type": "code",
   "execution_count": null,
   "id": "8c256a6d-2830-4063-95cb-b32f46b13f79",
   "metadata": {},
   "outputs": [],
   "source": []
  }
 ],
 "metadata": {
  "kernelspec": {
   "display_name": "Python 3 (ipykernel)",
   "language": "python",
   "name": "python3"
  },
  "language_info": {
   "codemirror_mode": {
    "name": "ipython",
    "version": 3
   },
   "file_extension": ".py",
   "mimetype": "text/x-python",
   "name": "python",
   "nbconvert_exporter": "python",
   "pygments_lexer": "ipython3",
   "version": "3.11.7"
  }
 },
 "nbformat": 4,
 "nbformat_minor": 5
}
